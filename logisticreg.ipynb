{
 "cells": [
  {
   "cell_type": "code",
   "execution_count": 1,
   "metadata": {},
   "outputs": [
    {
     "ename": "ModuleNotFoundError",
     "evalue": "No module named 'pandas'",
     "output_type": "error",
     "traceback": [
      "\u001b[1;31m---------------------------------------------------------------------------\u001b[0m",
      "\u001b[1;31mModuleNotFoundError\u001b[0m                       Traceback (most recent call last)",
      "Cell \u001b[1;32mIn[1], line 1\u001b[0m\n\u001b[1;32m----> 1\u001b[0m \u001b[38;5;28;01mimport\u001b[39;00m \u001b[38;5;21;01mpandas\u001b[39;00m \u001b[38;5;28;01mas\u001b[39;00m \u001b[38;5;21;01mpd\u001b[39;00m\n\u001b[0;32m      2\u001b[0m \u001b[38;5;28;01mfrom\u001b[39;00m \u001b[38;5;21;01mtransformers\u001b[39;00m \u001b[38;5;28;01mimport\u001b[39;00m BertTokenizer, BertModel\n\u001b[0;32m      3\u001b[0m \u001b[38;5;28;01mimport\u001b[39;00m \u001b[38;5;21;01mtorch\u001b[39;00m\n",
      "\u001b[1;31mModuleNotFoundError\u001b[0m: No module named 'pandas'"
     ]
    }
   ],
   "source": [
    "import pandas as pd\n",
    "from sklearn.feature_extraction.text import CountVectorizer, TfidfVectorizer\n",
    "from sklearn.model_selection import train_test_split\n",
    "from sklearn.preprocessing import LabelEncoder\n",
    "from sklearn.linear_model import LogisticRegression\n",
    "from sklearn.metrics import confusion_matrix, classification_report, roc_auc_score, make_scorer, f1_score, accuracy_score\n",
    "from sklearn.model_selection import GridSearchCV\n",
    "\n",
    "# Load the dataset\n",
    "df = pd.read_csv(\"IMDB Dataset Processed Lemma test.csv\")\n",
    "\n",
    "### Representing the textual data in a suitable model (i.e., Bag of Words, TF-IDF Vectors)\n",
    "\n",
    "# Represent the text data using TF-IDF\n",
    "tfidf_vectorizer = TfidfVectorizer()\n",
    "X_tfidf = tfidf_vectorizer.fit_transform(df['cleaned_review'])\n",
    "\n",
    "### Splitting the data into training and test sets, stratifying by sentiment labels\n",
    "\n",
    "# Labels (i.e., Sentiment)\n",
    "y = df['sentiment']\n",
    "label_encoder = LabelEncoder()\n",
    "y_encoded = label_encoder.fit_transform(y)\n",
    "\n",
    "# Get the mapping of the numeric labels to the original labels\n",
    "label_mapping = dict(zip(label_encoder.classes_, range(len(label_encoder.classes_))))\n",
    "print(\"Label encoding mapping:\")\n",
    "print(label_mapping)\n",
    "\n",
    "X_train, X_test, y_train, y_test = train_test_split(X_tfidf, y_encoded, test_size=0.2, random_state=42, stratify=y)\n",
    "\n"
   ]
  },
  {
   "cell_type": "code",
   "execution_count": null,
   "metadata": {},
   "outputs": [],
   "source": [
    "### Initialize and tune Logistic Regression classifier\n",
    "\n",
    "# Define the parameter grid for regularization strength C\n",
    "param_grid = {'C': [0.01, 0.1, 1, 10, 100]}\n",
    "\n",
    "# Initialize the Logistic Regression classifier\n",
    "log_reg_classifier = LogisticRegression(max_iter=1000, solver='liblinear')\n",
    "\n",
    "# Define the scoring metric with macro F1 score\n",
    "scoring = make_scorer(f1_score, average='micro')\n",
    "grid_search = GridSearchCV(estimator=log_reg_classifier, param_grid=param_grid, scoring=scoring, cv=5) # Cross validation with 5 folds\n",
    "\n",
    "# Fit the grid search to the training data\n",
    "grid_search.fit(X_train, y_train)\n",
    "\n",
    "# Get the best hyperparameters\n",
    "best_C = grid_search.best_params_['C']\n",
    "best_score = grid_search.best_score_\n",
    "\n",
    "print(f\"Best C: {best_C}\")\n",
    "print(f\"Best F1 score: {best_score}\")\n",
    "\n"
   ]
  },
  {
   "cell_type": "code",
   "execution_count": null,
   "metadata": {},
   "outputs": [],
   "source": [
    "# Train the Logistic Regression classifier with the best C\n",
    "best_log_reg = LogisticRegression(C=best_C, max_iter=1000, solver='liblinear')\n",
    "best_log_reg.fit(X_train, y_train)\n",
    "\n",
    "### Model Evaluation\n",
    "\n",
    "# Predict the classes and probabilities using the best model\n",
    "predicted_class = best_log_reg.predict(X_test)\n",
    "predicted_class_train = best_log_reg.predict(X_train)\n",
    "test_probs = best_log_reg.predict_proba(X_test)\n",
    "train_probs = best_log_reg.predict_proba(X_train)\n",
    "\n",
    "# Calculate and print the performance metrics\n",
    "print('Train confusion matrix is:')\n",
    "print(confusion_matrix(y_train, predicted_class_train))\n",
    "print('Test confusion matrix is:')\n",
    "print(confusion_matrix(y_test, predicted_class))\n",
    "print(classification_report(y_test, predicted_class))\n",
    "\n",
    "# Calculate train and test accuracy\n",
    "train_accuracy = accuracy_score(y_train, predicted_class_train)\n",
    "test_accuracy = accuracy_score(y_test, predicted_class)\n",
    "print(\"Train accuracy score: \", train_accuracy)\n",
    "print(\"Test accuracy score: \", test_accuracy)\n",
    "\n",
    "# Calculate and print the AUC-ROC score\n",
    "train_auc = roc_auc_score(y_train, train_probs[:, 1], multi_class='ovr')\n",
    "test_auc = roc_auc_score(y_test, test_probs[:, 1], multi_class='ovr')\n",
    "print(\"Train ROC-AUC score:\", train_auc)\n",
    "print(\"Test ROC-AUC score:\", test_auc)"
   ]
  }
 ],
 "metadata": {
  "kernelspec": {
   "display_name": "ie691",
   "language": "python",
   "name": "python3"
  },
  "language_info": {
   "codemirror_mode": {
    "name": "ipython",
    "version": 3
   },
   "file_extension": ".py",
   "mimetype": "text/x-python",
   "name": "python",
   "nbconvert_exporter": "python",
   "pygments_lexer": "ipython3",
   "version": "3.9.0"
  }
 },
 "nbformat": 4,
 "nbformat_minor": 2
}
