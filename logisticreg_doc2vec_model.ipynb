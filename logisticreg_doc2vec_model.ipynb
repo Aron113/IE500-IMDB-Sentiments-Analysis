{
 "cells": [
  {
   "cell_type": "code",
   "execution_count": null,
   "metadata": {},
   "outputs": [],
   "source": [
    "import pandas as pd\n",
    "from sklearn.feature_extraction.text import CountVectorizer, TfidfVectorizer\n",
    "from sklearn.model_selection import train_test_split\n",
    "from sklearn.preprocessing import LabelEncoder\n",
    "from sklearn.linear_model import LogisticRegression\n",
    "from sklearn.metrics import confusion_matrix, classification_report, roc_auc_score, make_scorer, f1_score, accuracy_score\n",
    "from sklearn.model_selection import GridSearchCV\n",
    "from gensim.models import Doc2Vec\n",
    "from gensim.models.doc2vec import TaggedDocument\n",
    "\n",
    "# Load the dataset\n",
    "df = pd.read_csv(\"IMDB Dataset Processed Lemma test.csv\")\n",
    "\n",
    "# Step 1: Preprocess and tag the documents\n",
    "documents = [TaggedDocument(doc.split(), [i]) for i, doc in enumerate(df['cleaned_review'])]\n",
    "\n",
    "# Step 2: Initialize and train the Doc2Vec model\n",
    "doc2vec_model = Doc2Vec(vector_size=100, window=5, min_count=2, workers=4, epochs=40)\n",
    "doc2vec_model.build_vocab(documents)\n",
    "doc2vec_model.train(documents, total_examples=doc2vec_model.corpus_count, epochs=doc2vec_model.epochs)\n",
    "\n",
    "# Step 3: Generate document embeddings (vectors) for each review\n",
    "X_doc2vec = [doc2vec_model.infer_vector(doc.words) for doc in documents]\n",
    "\n",
    "# Step 4: Split the data into training and test sets\n",
    "y = df['sentiment']\n",
    "label_encoder = LabelEncoder()\n",
    "y_encoded = label_encoder.fit_transform(y)\n",
    "\n",
    "X_train, X_test, y_train, y_test = train_test_split(X_doc2vec, y_encoded, test_size=0.2, random_state=42, stratify=y)"
   ]
  },
  {
   "cell_type": "code",
   "execution_count": 2,
   "metadata": {},
   "outputs": [
    {
     "name": "stdout",
     "output_type": "stream",
     "text": [
      "Best C: 1\n",
      "Best F1 score: 0.8666078406655741\n"
     ]
    }
   ],
   "source": [
    "### Initialize and tune Logistic Regression classifier\n",
    "\n",
    "# Define the parameter grid for regularization strength C\n",
    "param_grid = {'C': [0.01, 0.1, 1, 10, 100]}\n",
    "\n",
    "# Initialize the Logistic Regression classifier\n",
    "log_reg_classifier = LogisticRegression(max_iter=1000, solver='liblinear')\n",
    "\n",
    "# Define the scoring metric with macro F1 score\n",
    "scoring = make_scorer(f1_score, average='micro')\n",
    "grid_search = GridSearchCV(estimator=log_reg_classifier, param_grid=param_grid, scoring=scoring, cv=5) # Cross validation with 5 folds\n",
    "\n",
    "# Fit the grid search to the training data\n",
    "grid_search.fit(X_train, y_train)\n",
    "\n",
    "# Get the best hyperparameters\n",
    "best_C = grid_search.best_params_['C']\n",
    "best_score = grid_search.best_score_\n",
    "\n",
    "print(f\"Best C: {best_C}\")\n",
    "print(f\"Best F1 score: {best_score}\")\n",
    "\n"
   ]
  },
  {
   "cell_type": "code",
   "execution_count": 3,
   "metadata": {},
   "outputs": [
    {
     "name": "stdout",
     "output_type": "stream",
     "text": [
      "Train confusion matrix is:\n",
      "[[17132  2626]\n",
      " [ 2603 17304]]\n",
      "Test confusion matrix is:\n",
      "[[4286  654]\n",
      " [ 686 4291]]\n",
      "              precision    recall  f1-score   support\n",
      "\n",
      "           0       0.86      0.87      0.86      4940\n",
      "           1       0.87      0.86      0.86      4977\n",
      "\n",
      "    accuracy                           0.86      9917\n",
      "   macro avg       0.86      0.86      0.86      9917\n",
      "weighted avg       0.86      0.86      0.86      9917\n",
      "\n",
      "Train accuracy score:  0.8681709315517459\n",
      "Test accuracy score:  0.864878491479278\n",
      "Train ROC-AUC score: 0.9389920240160373\n",
      "Test ROC-AUC score: 0.9365346586199352\n"
     ]
    }
   ],
   "source": [
    "# Train the Logistic Regression classifier with the best C\n",
    "best_log_reg = LogisticRegression(C=best_C, max_iter=1000, solver='liblinear')\n",
    "best_log_reg.fit(X_train, y_train)\n",
    "\n",
    "### Model Evaluation\n",
    "\n",
    "# Predict the classes and probabilities using the best model\n",
    "predicted_class = best_log_reg.predict(X_test)\n",
    "predicted_class_train = best_log_reg.predict(X_train)\n",
    "test_probs = best_log_reg.predict_proba(X_test)\n",
    "train_probs = best_log_reg.predict_proba(X_train)\n",
    "\n",
    "# Calculate and print the performance metrics\n",
    "print('Train confusion matrix is:')\n",
    "print(confusion_matrix(y_train, predicted_class_train))\n",
    "print('Test confusion matrix is:')\n",
    "print(confusion_matrix(y_test, predicted_class))\n",
    "print(classification_report(y_test, predicted_class))\n",
    "\n",
    "# Calculate train and test accuracy\n",
    "train_accuracy = accuracy_score(y_train, predicted_class_train)\n",
    "test_accuracy = accuracy_score(y_test, predicted_class)\n",
    "print(\"Train accuracy score: \", train_accuracy)\n",
    "print(\"Test accuracy score: \", test_accuracy)\n",
    "\n",
    "# Calculate and print the AUC-ROC score\n",
    "train_auc = roc_auc_score(y_train, train_probs[:, 1], multi_class='ovr')\n",
    "test_auc = roc_auc_score(y_test, test_probs[:, 1], multi_class='ovr')\n",
    "print(\"Train ROC-AUC score:\", train_auc)\n",
    "print(\"Test ROC-AUC score:\", test_auc)"
   ]
  }
 ],
 "metadata": {
  "kernelspec": {
   "display_name": "base",
   "language": "python",
   "name": "python3"
  },
  "language_info": {
   "codemirror_mode": {
    "name": "ipython",
    "version": 3
   },
   "file_extension": ".py",
   "mimetype": "text/x-python",
   "name": "python",
   "nbconvert_exporter": "python",
   "pygments_lexer": "ipython3",
   "version": "3.11.5"
  }
 },
 "nbformat": 4,
 "nbformat_minor": 2
}
