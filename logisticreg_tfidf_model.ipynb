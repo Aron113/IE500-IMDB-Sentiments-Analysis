{
 "cells": [
  {
   "cell_type": "code",
   "execution_count": null,
   "metadata": {},
   "outputs": [
    {
     "name": "stdout",
     "output_type": "stream",
     "text": [
      "Label encoding mapping:\n",
      "{'negative': 0, 'positive': 1}\n"
     ]
    }
   ],
   "source": [
    "import pandas as pd\n",
    "from sklearn.feature_extraction.text import CountVectorizer, TfidfVectorizer\n",
    "from sklearn.model_selection import train_test_split\n",
    "from sklearn.preprocessing import LabelEncoder\n",
    "from sklearn.linear_model import LogisticRegression\n",
    "from sklearn.metrics import confusion_matrix, classification_report, roc_auc_score, make_scorer, f1_score, accuracy_score\n",
    "from sklearn.model_selection import GridSearchCV\n",
    "from gensim.models import Doc2Vec\n",
    "from gensim.models.doc2vec import TaggedDocument\n",
    "\n",
    "# Load the dataset\n",
    "df = pd.read_csv(\"IMDB Dataset Processed Lemma test.csv\")\n",
    "\n",
    "### Representing the textual data in a suitable model (i.e., Bag of Words, TF-IDF Vectors)\n",
    "\n",
    "# Represent the text data using TF-IDF\n",
    "tfidf_vectorizer = TfidfVectorizer()\n",
    "X_tfidf = tfidf_vectorizer.fit_transform(df['cleaned_review'])\n",
    "\n",
    "### Splitting the data into training and test sets, stratifying by sentiment labels\n",
    "\n",
    "# Labels (i.e., Sentiment)\n",
    "y = df['sentiment']\n",
    "label_encoder = LabelEncoder()\n",
    "y_encoded = label_encoder.fit_transform(y)\n",
    "\n",
    "# Get the mapping of the numeric labels to the original labels\n",
    "label_mapping = dict(zip(label_encoder.classes_, range(len(label_encoder.classes_))))\n",
    "print(\"Label encoding mapping:\")\n",
    "print(label_mapping)\n",
    "\n",
    "X_train, X_test, y_train, y_test = train_test_split(X_tfidf, y_encoded, test_size=0.2, random_state=42, stratify=y)"
   ]
  },
  {
   "cell_type": "code",
   "execution_count": 2,
   "metadata": {},
   "outputs": [
    {
     "name": "stdout",
     "output_type": "stream",
     "text": [
      "Best C: 1\n",
      "Best F1 score: 0.8891213916551116\n"
     ]
    }
   ],
   "source": [
    "### Initialize and tune Logistic Regression classifier\n",
    "\n",
    "# Define the parameter grid for regularization strength C\n",
    "param_grid = {'C': [0.01, 0.1, 1, 10, 100]}\n",
    "\n",
    "# Initialize the Logistic Regression classifier\n",
    "log_reg_classifier = LogisticRegression(max_iter=1000, solver='liblinear')\n",
    "\n",
    "# Define the scoring metric with macro F1 score\n",
    "scoring = make_scorer(f1_score, average='micro')\n",
    "grid_search = GridSearchCV(estimator=log_reg_classifier, param_grid=param_grid, scoring=scoring, cv=5) # Cross validation with 5 folds\n",
    "\n",
    "# Fit the grid search to the training data\n",
    "grid_search.fit(X_train, y_train)\n",
    "\n",
    "# Get the best hyperparameters\n",
    "best_C = grid_search.best_params_['C']\n",
    "best_score = grid_search.best_score_\n",
    "\n",
    "print(f\"Best C: {best_C}\")\n",
    "print(f\"Best F1 score: {best_score}\")\n",
    "\n"
   ]
  },
  {
   "cell_type": "code",
   "execution_count": 3,
   "metadata": {},
   "outputs": [
    {
     "name": "stdout",
     "output_type": "stream",
     "text": [
      "Train confusion matrix is:\n",
      "[[18161  1597]\n",
      " [ 1246 18661]]\n",
      "Test confusion matrix is:\n",
      "[[4338  602]\n",
      " [ 502 4475]]\n",
      "              precision    recall  f1-score   support\n",
      "\n",
      "           0       0.90      0.88      0.89      4940\n",
      "           1       0.88      0.90      0.89      4977\n",
      "\n",
      "    accuracy                           0.89      9917\n",
      "   macro avg       0.89      0.89      0.89      9917\n",
      "weighted avg       0.89      0.89      0.89      9917\n",
      "\n",
      "Train accuracy score:  0.9283247195260305\n",
      "Test accuracy score:  0.8886760108903903\n",
      "Train ROC-AUC score: 0.9782797224423256\n",
      "Test ROC-AUC score: 0.9578802166077316\n"
     ]
    }
   ],
   "source": [
    "# Train the Logistic Regression classifier with the best C\n",
    "best_log_reg = LogisticRegression(C=best_C, max_iter=1000, solver='liblinear')\n",
    "best_log_reg.fit(X_train, y_train)\n",
    "\n",
    "### Model Evaluation\n",
    "\n",
    "# Predict the classes and probabilities using the best model\n",
    "predicted_class = best_log_reg.predict(X_test)\n",
    "predicted_class_train = best_log_reg.predict(X_train)\n",
    "test_probs = best_log_reg.predict_proba(X_test)\n",
    "train_probs = best_log_reg.predict_proba(X_train)\n",
    "\n",
    "# Calculate and print the performance metrics\n",
    "print('Train confusion matrix is:')\n",
    "print(confusion_matrix(y_train, predicted_class_train))\n",
    "print('Test confusion matrix is:')\n",
    "print(confusion_matrix(y_test, predicted_class))\n",
    "print(classification_report(y_test, predicted_class))\n",
    "\n",
    "# Calculate train and test accuracy\n",
    "train_accuracy = accuracy_score(y_train, predicted_class_train)\n",
    "test_accuracy = accuracy_score(y_test, predicted_class)\n",
    "print(\"Train accuracy score: \", train_accuracy)\n",
    "print(\"Test accuracy score: \", test_accuracy)\n",
    "\n",
    "# Calculate and print the AUC-ROC score\n",
    "train_auc = roc_auc_score(y_train, train_probs[:, 1], multi_class='ovr')\n",
    "test_auc = roc_auc_score(y_test, test_probs[:, 1], multi_class='ovr')\n",
    "print(\"Train ROC-AUC score:\", train_auc)\n",
    "print(\"Test ROC-AUC score:\", test_auc)"
   ]
  },
  {
   "cell_type": "code",
   "execution_count": null,
   "metadata": {},
   "outputs": [
    {
     "ename": "NameError",
     "evalue": "name 'y_test' is not defined",
     "output_type": "error",
     "traceback": [
      "\u001b[1;31m---------------------------------------------------------------------------\u001b[0m",
      "\u001b[1;31mNameError\u001b[0m                                 Traceback (most recent call last)",
      "Cell \u001b[1;32mIn[1], line 35\u001b[0m\n\u001b[0;32m     31\u001b[0m     \u001b[38;5;28mprint\u001b[39m(sarcasm_examples\u001b[38;5;241m.\u001b[39mhead())\n\u001b[0;32m     33\u001b[0m \u001b[38;5;66;03m# Evaluate the model predictions\u001b[39;00m\n\u001b[0;32m     34\u001b[0m perform_error_analysis(\n\u001b[1;32m---> 35\u001b[0m     y_true\u001b[38;5;241m=\u001b[39m\u001b[43my_test\u001b[49m,\n\u001b[0;32m     36\u001b[0m     y_pred\u001b[38;5;241m=\u001b[39mpredicted_class,\n\u001b[0;32m     37\u001b[0m     X_test\u001b[38;5;241m=\u001b[39mdf\u001b[38;5;241m.\u001b[39mloc[X_test\u001b[38;5;241m.\u001b[39mindices, \u001b[38;5;124m'\u001b[39m\u001b[38;5;124mcleaned_review\u001b[39m\u001b[38;5;124m'\u001b[39m],  \u001b[38;5;66;03m# Get the original text reviews from test indices\u001b[39;00m\n\u001b[0;32m     38\u001b[0m     label_mapping\u001b[38;5;241m=\u001b[39mlabel_mapping\n\u001b[0;32m     39\u001b[0m )\n",
      "\u001b[1;31mNameError\u001b[0m: name 'y_test' is not defined"
     ]
    }
   ],
   "source": [
    "\n"
   ]
  }
 ],
 "metadata": {
  "kernelspec": {
   "display_name": "ie691",
   "language": "python",
   "name": "python3"
  },
  "language_info": {
   "codemirror_mode": {
    "name": "ipython",
    "version": 3
   },
   "file_extension": ".py",
   "mimetype": "text/x-python",
   "name": "python",
   "nbconvert_exporter": "python",
   "pygments_lexer": "ipython3",
   "version": "3.9.20"
  }
 },
 "nbformat": 4,
 "nbformat_minor": 2
}
