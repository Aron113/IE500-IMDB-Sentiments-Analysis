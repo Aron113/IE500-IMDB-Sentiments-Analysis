{
 "cells": [
  {
   "cell_type": "markdown",
   "metadata": {},
   "source": [
    "This notebook contains the code for the Multinomial Naive Bayes classification model."
   ]
  },
  {
   "cell_type": "code",
   "execution_count": 22,
   "metadata": {},
   "outputs": [
    {
     "name": "stdout",
     "output_type": "stream",
     "text": [
      "Label encoding mapping:\n",
      "{'negative': 0, 'positive': 1}\n"
     ]
    }
   ],
   "source": [
    "import pandas as pd\n",
    "from sklearn.feature_extraction.text import CountVectorizer, TfidfVectorizer\n",
    "from sklearn.model_selection import train_test_split\n",
    "from sklearn.preprocessing import LabelEncoder\n",
    "\n",
    "df = pd.read_csv(\"IMDB Dataset Processed Lemma test.csv\")\n",
    "\n",
    "###Representing the textual data in a suitable model (i.e. Bag of Words, TF-IDF Vectors)\n",
    "\n",
    "#Represent the text data using Bag of Words\n",
    "vectorizer = CountVectorizer()\n",
    "X_bow = vectorizer.fit_transform(df['cleaned_review'])\n",
    "\n",
    "#Alternatively, represent the text data using TF-IDF\n",
    "tfidf_vectorizer = TfidfVectorizer()\n",
    "X_tfidf = tfidf_vectorizer.fit_transform(df['cleaned_review'])\n",
    "\n",
    "\n",
    "###Splitting the data into the training and test sets. Ensure that the train and test datasets are balanced by using stratify on the sentiments data\n",
    "\n",
    "#Labels (i.e. Sentiment)\n",
    "y = df['sentiment']\n",
    "label_encoder = LabelEncoder()\n",
    "y_encoded = label_encoder.fit_transform(y)\n",
    "\n",
    "#Get the mapping of the numeric labels to the original labels\n",
    "label_mapping = dict(zip(label_encoder.classes_, range(len(label_encoder.classes_))))\n",
    "print(\"Label encoding mapping:\")\n",
    "print(label_mapping)\n",
    "\n",
    "X_train, X_test, y_train, y_test, train_indices, test_indices = train_test_split(\n",
    "    X_tfidf, y_encoded, df.index, test_size=0.2, random_state=42, stratify=y\n",
    ")\n"
   ]
  },
  {
   "cell_type": "markdown",
   "metadata": {},
   "source": [
    "We implement the Multinomial Naive Bayes model here. We start off by conducting hyperparameter optimization using gridsearch to find the ideal hyperparameter. The ideal hyperparameter is one that allows the model to have the highest f1 score.\n",
    "Once we have found the ideal hyperparameter, we train the model using that specific hyperparameter."
   ]
  },
  {
   "cell_type": "code",
   "execution_count": 23,
   "metadata": {},
   "outputs": [
    {
     "name": "stdout",
     "output_type": "stream",
     "text": [
      "Best alpha: 2.0\n",
      "Best F1 score: 0.8656498172192109\n"
     ]
    }
   ],
   "source": [
    "from sklearn.naive_bayes import MultinomialNB\n",
    "from sklearn.metrics import confusion_matrix, classification_report, roc_auc_score, make_scorer, f1_score, roc_curve, auc\n",
    "from sklearn.model_selection import GridSearchCV\n",
    "from sklearn.metrics import accuracy_score, confusion_matrix, classification_report\n",
    "\n",
    "# Define the parameter grid for alpha\n",
    "param_grid = {'alpha': [0.01, 0.1, 0.5, 1.0, 2.0, 5.0, 10.0]} # Smoothing parameter\n",
    "\n",
    "# Initialize the MultinomialNB classifier\n",
    "nb_classifier = MultinomialNB()\n",
    "\n",
    "# Define the scoring metric with macro F1 score\n",
    "scoring = make_scorer(f1_score, average='micro')\n",
    "grid_search = GridSearchCV(estimator=nb_classifier, param_grid=param_grid, scoring=scoring, cv=5) # Cross validation with 5 folds\n",
    "\n",
    "# Fit the grid search to the training data\n",
    "grid_search.fit(X_train, y_train)\n",
    "\n",
    "# Get the best hyperparameters\n",
    "best_alpha = grid_search.best_params_['alpha']\n",
    "best_score = grid_search.best_score_\n",
    "\n",
    "print(f\"Best alpha: {best_alpha}\")\n",
    "print(f\"Best F1 score: {best_score}\")"
   ]
  },
  {
   "cell_type": "code",
   "execution_count": 24,
   "metadata": {},
   "outputs": [
    {
     "name": "stdout",
     "output_type": "stream",
     "text": [
      "Train confusion matrix is:\n",
      "[[17690  2068]\n",
      " [ 1996 17911]]\n",
      "Test confusion matrix is:\n",
      "[[4256  684]\n",
      " [ 661 4316]]\n",
      "              precision    recall  f1-score   support\n",
      "\n",
      "           0       0.87      0.86      0.86      4940\n",
      "           1       0.86      0.87      0.87      4977\n",
      "\n",
      "    accuracy                           0.86      9917\n",
      "   macro avg       0.86      0.86      0.86      9917\n",
      "weighted avg       0.86      0.86      0.86      9917\n",
      "\n",
      "Train accuracy score:  0.8975419135257784\n",
      "Test accuracy score:  0.8643743067459917\n",
      "Train ROC-AUC score: 0.9616374100901312\n",
      "Test ROC-AUC score: 0.9390849730623215\n"
     ]
    }
   ],
   "source": [
    "# Train the MultinomialNB classifier with the best alpha (Lidstone Smoothing)\n",
    "mnb_classifier = MultinomialNB(alpha=best_alpha)\n",
    "mnb_classifier.fit(X_train, y_train)\n",
    "\n",
    "# Predict the classes and the probabilities using the best model\n",
    "predicted_class = mnb_classifier.predict(X_test)\n",
    "predicted_class_train = mnb_classifier.predict(X_train)\n",
    "test_probs = mnb_classifier.predict_proba(X_test)\n",
    "train_probs = mnb_classifier.predict_proba(X_train)\n",
    "\n",
    "# Calculate and print the performance metrics\n",
    "print('Train confusion matrix is:')\n",
    "print(confusion_matrix(y_train, predicted_class_train))\n",
    "print('Test confusion matrix is:')\n",
    "print(confusion_matrix(y_test, predicted_class))\n",
    "print(classification_report(y_test, predicted_class))\n",
    "\n",
    "# Calculate train and test accuracy\n",
    "train_accuracy = accuracy_score(y_train, predicted_class_train)\n",
    "test_accuracy = accuracy_score(y_test, predicted_class)\n",
    "print(\"Train accuracy score: \", train_accuracy)\n",
    "print(\"Test accuracy score: \", test_accuracy)\n",
    "\n",
    "# Calculate and print the AUC-ROC score\n",
    "train_auc = roc_auc_score(y_train, train_probs[:, 1], multi_class = 'ovr')\n",
    "test_auc = roc_auc_score(y_test, test_probs[:, 1], multi_class='ovr')\n",
    "print(\"Train ROC-AUC score:\", train_auc)\n",
    "print(\"Test ROC-AUC score:\", test_auc)"
   ]
  },
  {
   "cell_type": "code",
   "execution_count": 30,
   "metadata": {},
   "outputs": [
    {
     "name": "stdout",
     "output_type": "stream",
     "text": [
      "Confusion Matrix:\n",
      "[[4256  684]\n",
      " [ 661 4316]]\n",
      "\n",
      "Classification Report:\n",
      "              precision    recall  f1-score   support\n",
      "\n",
      "    negative       0.87      0.86      0.86      4940\n",
      "    positive       0.86      0.87      0.87      4977\n",
      "\n",
      "    accuracy                           0.86      9917\n",
      "   macro avg       0.86      0.86      0.86      9917\n",
      "weighted avg       0.86      0.86      0.86      9917\n",
      "\n",
      "\n",
      "False Negatives (FN) examples:\n",
      "34773    \"An album of songs so old everyone thinks they're new.\" This film has the elusive combination of pace and mood that set some films apart from the opening moments. And why not? Towering talent from Dame Judith Dench as a widow who plays saxaphone with a street musician to help him get the songs right, to Olympia Dukakis as the merry widow living in a Scottish castle on the alimony of her many marriages, to Ian Holm as the drummer who loved all the members of a World War II all girl (more or less) swing band. But wait, there's more. Add in Leslie Caron on bass, and the incomparable Clio Laine on lead vocal, at last, and the Blonde Bombshells are the hottest band in England since the Beatles. Well, OK, not really, but this movie is a winner.<br /><br />Elizabeth (Dench) spends the whole film trying to reunite the Blonde Bombshells to play at her granddaughter's school dance. And before you roll your eyes, imagine how difficult and courageous it would be for a bunch of sexegenarian women to step onstage in front of the Britney Spears generation following an act called \"Open Wound.\"<br /><br />In an age when actresses careers are over by the time they're 30, most bands' second album is a greatest hits compilation, and music more than a month old has almost no chance of airplay, it's great to see real talent, real music and a really good movie come from, where else, the BBC.<br /><br />I love this movie, and I know I'll watch it many more times, and enjoy it more each time.\n",
      "34520                                                                                                                                                                                                                                                                                                                                                                                                                                                                                                                                                                                                                                                                                                                                                                                                                                                     This is a superb film and was immediately put in my top ten (trust me I know films!). It's one of the movies that really makes you think, not necessarily about the storyline but about yourself! The film is about a fifteen year old kid (Leland Fitzgerald)who kills an autistic boy. he is sent to juvenile hall where he meets Pearl Madison, his teacher. His relationship with Pearl slowly grows and eventually Pearl decides to write a story on Leland and his peers but as he gets closer to finding out Lelands motive he learns he must deal with his own issues first.<br /><br />This is a great film and a must see with great music by the pixies and a fantastic score! Watch it!\n",
      "32702                                                                                                                                                                                                                                                                                                                                                                                                                                                                                                                                                                                                                                                                                                                                                                                                               The film that gave us John Waters is one of the funniest films ever. Yes it may be gross but it's filled with hysterical moments that nobody has done since. The infamous dog-scene has to be one of the highlights of cinema. not a film for the easily offended it's one of those movies where you always see something new. Divine's performance is worth the reputation. Mink Stole is hysterical. This is the film responsible for the Farrely brothers and the entire Gross-out comedy genre. I know that sounds a bit extreme but think about it. Before this comedies were very run of the mill and almost identical. After this movie comedies became strange and weird, but in a good way. I'd give it 15 out of 10 if I could.\n",
      "33827                                                                                                                                                                                                                                                                                                                                                                                                                                                                                                                                                                                                                                                                                                                                                                                                                                                                            I watched this movie because of Costas Mandylor and Lauren Holly. I adored them together on Picket Fences, so it was a treat to see them together again. This was not the best movie ever made, but it was cute. Very predictable, but sometimes mindlessly fun movies are just what I need.<br /><br />The desserts were gorgeous, and I wanted to eat all of them. I did love it when that one fell apart though. I bet it still tasted good.<br /><br />Costas and Lauren still had the great chemistry that they had back on Picket Fences, and I swooned as they kissed in this movie.<br /><br />I wouldn't watch this again, but it was a great filler for one night.\n",
      "27512                                                                                                                                                                                                                                                                                                                                                                                                                                                                                                                                                                                                                                                                                                                                                                                                                                 Now we know where they got the idea of Snakes on a Plane. To put it bluntly, do not pay to see this movie. If you really want to waste 90 minutes of your life, then either catch it on cable, or get it as a free pick from NetFlix or Blockbuster. Do not pay to rent this. If you do pay to rent this, then you are one stupid individual. The acting was awful, the plot was awful, everything was awful except for the snakes. Whether they were real or CGI generated, they did look pretty good. But that being said, still this movie has to be one of the worst movies I have ever seen. Even the nude dancing scene was pretty bad that I actually fast forwarded through that. Don't sat I did not warn you.\n",
      "Name: original_review, dtype: object\n",
      "\n",
      "False Positives (FP) examples:\n",
      "45455    I don't know what I missed here, but I can't believe all these positive comments by so many people on this film. I thought it was silly, and a bit over the top. I did like the performances of Gregg Henry and Michael Rooker, however the others were just... boring.<br /><br />Now I like B movies, I really do, but this was a bit further down the alphabet for me. I saw someone compare the humor and horror in this to \"Army Of Darkness\" and \"Shaun of the Dead\", as well as \"On par with The Re-Animator\". You must be joking. I didn't find this film funny, it tried, it did make an effort, (possibly too much of an effort), but it failed in my opinion. By the time I was hit with the 3rd or 4th one-liner I was rolling my eyes and checking my watch.<br /><br />There were definitely homages made to several other films, which is always cool, kind of like an inside joke for us horror fans. But here it may have just been a lack of original thought. Admittedly there were some nice special effects, good gore, but that can't carry an entire movie. The mutated Grant looked like a cross between Jabba the Hut, and in the early stages of mutation- Chet from \"Weird Science\" (after he was turned into the monster) and one of the alien creature/children from \"The Explorers\". It just didn't work. I thought it looked like something some kid from Grade 5 art class could have designed. Then there was Brenda, the woman that Grant impregnated and chained up in the barn. When help finally arrived she looked like a giant tick waiting to be popped. The design once again was totally unimaginative. A round flesh colored balloon with a face in the middle. *yawn* <br /><br />Now about the zombies- The more movies I see with zombies in them these days the more I wish George A. Romero had a patent on them and was the only writer/director allowed to make movies about them. He's the only person so far to do it right, with the exception of Edgar Wright and Simon Pegg (but that was a comedy). Oh, and Danny Boyle, but they were a different style of Zombie. Maybe Mr. Romero has ruined any zombie film for me due to his ingenious ability to get his actors to moan, groan and shamble about as if their joints are dried up and lacking even a drop of synovial fluid, and their muscles are fighting the effects caused by rigor mortis that had started to set in right before they were re-animated. The people of \"Wheelsy\" just didn't have the proper motivation... they were horrible zombies.<br /><br />So in the end I give \"Slither\" a 3, for a couple of laughs and a few nice gore scenes.\n",
      "14394                                                                                                                                                                                                                                                                                                                                                                                                                                                                                                                                                                                                                                                                                                                                                                                                                                                                                                                                                                                                                                                                                                                                                                                                                                                                                                                                                                                                                                                                                                                                                                                                                                                                                           I just can't get it, freaks out on the planet are talking about this one as a must seen, they even dare to call it a (s)exploitation because the possessed girl is seducing priests and is masturbating all time. Don't let me laugh. I watched the movie, seducing is only at the end of the movie and don't call it seducing,it's just bad language that's she is talking. And the masturbationscene is a big laugh too, she tries to seduce her father while masturbating, let me be clear, with her clothes on you perverts out there. It isn't gory or bloody at all, everybody is vomiting on Beyond The Door, well, let me tell, that one is for me better than this flick. Only the last 5 minutes the possessed one is vomiting and having weird eyes. If I had know that this is so bad then I would never caught me a copy. If you really wan't to see a (s)exploiation about exorcism watch Angel Above, The Devil Below or other cheesy ones. a waist of time this is.\n",
      "12423                                                                                                                                                                                                                                                                                                                                                                                                                                                                                                                                                                                                                                                                                                                                                                                                                                                                                                                        This is one of those unique horror films that requires a much more mature understanding of the word 'horror' in order for it to be appreciated. The main thing people may fail to realize that this story is told through the point of view a little boy and, as with most younger children, he gets frightened easily. Mainly because he simply doesn't understand things, like why his father is hardly ever there for him. From watching the film you can see the husband arguing with his wife the balance between work time and family time and you can easily understand it, but the little boy doesn't. Also one can imagine the boy being afraid of the woods, as it is established early on in the film, that the family is from the city. Also, in the beginning as the family is traveling to the house they hit a deer, then get held up, then they argue with the locals about it, and the little boy surely didn't find this introduction to the woods pleasant at all.<br /><br />The \"Wendigo\" is ultimately what his young, innocent mind fabricates to explain all of this. There is the American Indian legend, but when looking at the scene where the young boy hears about about it, it is explained to him like bluntly and simplistically. Not because that's what the Wendigo actually is, but because that is how he understands it. When you look at the film from this point of view you can really begin to appreciate it. Obviously it was low-budget and shot cheaply, but the jumping montages, use of light, and general eeriness more than make up for it. And the final question the film asks is: is it all in your head, or is it really out there? 8/10<br /><br />Rated R: profanity, violence, and a sex scene\n",
      "17485                                                                                                                                                                                                                                                                                                                                                                                                                                                                                                                                                                                                                                                                                                                                                                                                                                                                                                                                                                                                                                                                                                                                                                                                                                                                                                                                                                                                                                                                                                                                                                                                                                                                                                                                                                                                                                                                                                                                                                                                                                                                                                                                                                                                                                                                                                                    I find it sad that Christians (and I am one) feel that we must make movies like \"Left Behind.\" We have much better stories to tell that don't have to be so preachy. I was very disappointed with this film. As an aspiring filmmaker who believes in Christ, I see this film as the perfect example for what I am not going to do with my career in film.\n",
      "29296                                                                                                                                                                                                                                                                                                                                                                                                                                                                                                                                                                                                                                                                                                                                                                                                                                                                                                                                                                                                                                                                                                                                                                                                                                                                                                                                                                                                                                                                                                                                                                                                      Reading through most of the other reviews, I tend to agree with most of the comments. The one thing that I would add is the disjointed way the movie has been Directed and Produced. I think that some of these new wave movie makers think that they are being clever using unusual (sometimes jerky) camera angles, and flitting from one scene to another. It goes down well with these movie festivals, and with some of these Indie type critics, but it spoils the movie for me. I noticed in the reviews, one comment saying that none of this movie makers films have become blockbusters. This would maybe prove my point, as the film has that 'rushed to finish' feeling that makes you wonder why such a beautiful film appears to be lacking a smooth flow. As for the comment about Kiefer Sutherland being a big name to put on the poster, I would bet he cringed when watching the final cut. This is a story with real potential, spoilt by trying to be different in it's production. Worth watching, but not many would come back for a second view.\n",
      "Name: original_review, dtype: object\n",
      "\n",
      "Potential Sarcasm Examples:\n",
      "34773                                                                                                                                                                                                                                                                                                                                                                                                                                                                                                                                                                                                                                                                                                                                                                                                                         \"An album of songs so old everyone thinks they're new.\" This film has the elusive combination of pace and mood that set some films apart from the opening moments. And why not? Towering talent from Dame Judith Dench as a widow who plays saxaphone with a street musician to help him get the songs right, to Olympia Dukakis as the merry widow living in a Scottish castle on the alimony of her many marriages, to Ian Holm as the drummer who loved all the members of a World War II all girl (more or less) swing band. But wait, there's more. Add in Leslie Caron on bass, and the incomparable Clio Laine on lead vocal, at last, and the Blonde Bombshells are the hottest band in England since the Beatles. Well, OK, not really, but this movie is a winner.<br /><br />Elizabeth (Dench) spends the whole film trying to reunite the Blonde Bombshells to play at her granddaughter's school dance. And before you roll your eyes, imagine how difficult and courageous it would be for a bunch of sexegenarian women to step onstage in front of the Britney Spears generation following an act called \"Open Wound.\"<br /><br />In an age when actresses careers are over by the time they're 30, most bands' second album is a greatest hits compilation, and music more than a month old has almost no chance of airplay, it's great to see real talent, real music and a really good movie come from, where else, the BBC.<br /><br />I love this movie, and I know I'll watch it many more times, and enjoy it more each time.\n",
      "34520                                                                                                                                                                                                                                                                                                                                                                                                                                                                                                                                                                                                                                                                                                                                                                                                                                                                                                                                                                                                                                                                                                                                                                                                                                                                                                                                                                                                                                                                                                                                                                                                                                                                          This is a superb film and was immediately put in my top ten (trust me I know films!). It's one of the movies that really makes you think, not necessarily about the storyline but about yourself! The film is about a fifteen year old kid (Leland Fitzgerald)who kills an autistic boy. he is sent to juvenile hall where he meets Pearl Madison, his teacher. His relationship with Pearl slowly grows and eventually Pearl decides to write a story on Leland and his peers but as he gets closer to finding out Lelands motive he learns he must deal with his own issues first.<br /><br />This is a great film and a must see with great music by the pixies and a fantastic score! Watch it!\n",
      "33827                                                                                                                                                                                                                                                                                                                                                                                                                                                                                                                                                                                                                                                                                                                                                                                                                                                                                                                                                                                                                                                                                                                                                                                                                                                                                                                                                                                                                                                                                                                                                                                                                                                                                                 I watched this movie because of Costas Mandylor and Lauren Holly. I adored them together on Picket Fences, so it was a treat to see them together again. This was not the best movie ever made, but it was cute. Very predictable, but sometimes mindlessly fun movies are just what I need.<br /><br />The desserts were gorgeous, and I wanted to eat all of them. I did love it when that one fell apart though. I bet it still tasted good.<br /><br />Costas and Lauren still had the great chemistry that they had back on Picket Fences, and I swooned as they kissed in this movie.<br /><br />I wouldn't watch this again, but it was a great filler for one night.\n",
      "31541    A bickering, American family, vacationing in the west, discover a strange ghost town in the middle of the desert. Little do they know that this ghost town was once a test site for nuclear bombs, and a deadly presence is stalking them. I generally love mystery-horror films like this. \"Cube\", Spielberg's \"Duel\" and \"The Birds\" are all great examples of movies that give no answers but nonetheless leave us intrigued and wanting more. Apparently, \"Disappearance\" writer/director Walter Klenhard was trying to make just that kind of film, and whether or not he succeeded is up to the viewer. I personally think he got about half way there, then the film just sunk.<br /><br />The actors are all kind of just \"ho-hum\". Their not especially bad but we as an audience never really feel their fear and they react to situations in unrealistic ways. Is anyone else absolutely SICK of characters just walking out off to investigate strange sounds?!?!? At least give them SOME kind of justification for doing so!?!?!?<br /><br />As far as made-for-TV films go it's an above average fair for sure. Director Klenhard Should be commended for really milking the desert environment for everything it offered and some of the setting were striking. There's a really cool scene where two characters find an old nuclear test ground were the sand had been completely melted to glass for as far as the eye could see. I wonder if that was real<br /><br />No gore to speak of, and the 'creatures'or what ever the hell it is that's after these peopleare never shown, not to mention that we are never even given a real clue as to what they are (Mutants, aliens, ghosts or ancient evil Indian spiritsOh, that really narrows it down for us!) or where the come from. <br /><br />There are lots of clichés here, too. Why is it that towns-folk in these kinds of films are always really, really dumb? Why is there always an old guy everyone thinks is crazy that turns out to be correct? Why? Why? Why? How 'bout a NEW scenario, folks! <br /><br />\"Disappearance\" tries to be different and intelligent but ultimately fails in that in many ways it's too familiar to us fans of direct-to-video horror fodder. Hey, I've seen much worse films, and disappearance ain't bad, it's just too Average.<br /><br />4/10.\n",
      "49191                                                                                                                                                                                                                                                                                                                                                                                                                                                                                                                                                                                                                                                                                                                                                                                                                                                                                                                                       While I don't consider myself a big fan of fairy tale movies, Stardust intrigued me based on seeing Michelle Pfeiffer in the trailers as a villain (especially since I was about to see her as the bossy Velma Von Tussle in Hairspray). Boy, is she so convincingly evil here as a witch, especially with her age-ugly makeup in the beginning and end! Robert De Niro is also great as the pirate captain who's forced to hide \"in the closet\" to protect his \"reputation\"! Just about all the actors like Claire Danes, Rupert Everett, Ricky Gervais, Peter O'Toole and many others do fine work here. While Danes and Pfeiffer are classic beauties, there's also stunning faces of Sienna Miller, Olivia Grant (as Girl Bernard), and Kate Magowan especially when we first meet her. Newcomer Charlie Cox is fine as the lead Tristan and he looked so much like his father Dunstan as a young man that I thought that was him in early scenes with Magowan (actually Ben Barnes). Many comments have compared this to The Princess Bride and while I can see some resemblances, the main difference was that with PB, you always knew it was just an imaginary tale as told by an old man to his grandson. Stardust makes you believe, for the most part, that what you're seeing and hearing could have actually happened even with all the hilarity that happens throughout. So on that note, I highly recommended Stardust.\n",
      "Name: original_review, dtype: object\n"
     ]
    }
   ],
   "source": [
    "import pandas as pd\n",
    "\n",
    "def perform_error_analysis_mnb(y_true, y_pred, test_indices, df, label_mapping):\n",
    "    # Set Pandas options to display full strings\n",
    "    pd.set_option('display.max_colwidth', None)\n",
    "    \n",
    "    # Generate confusion matrix and classification report\n",
    "    cm = confusion_matrix(y_true, y_pred)\n",
    "    cr = classification_report(y_true, y_pred, target_names=label_mapping.keys())\n",
    "    print(\"Confusion Matrix:\")\n",
    "    print(cm)\n",
    "    print(\"\\nClassification Report:\")\n",
    "    print(cr)\n",
    "\n",
    "    # Map `test_indices` to extract the original reviews\n",
    "    X_test_reviews = df.loc[test_indices, 'original_review']\n",
    "\n",
    "    # Identify False Negatives (FN) and False Positives (FP)\n",
    "    FN_indices = (y_true == 0) & (y_pred != 0)  # Replace 0 with the specific class of interest\n",
    "    FP_indices = (y_true != 0) & (y_pred == 0)  # Replace 0 with the specific class of interest\n",
    "\n",
    "    false_negatives = X_test_reviews.iloc[FN_indices]\n",
    "    false_positives = X_test_reviews.iloc[FP_indices]\n",
    "    sarcasm_candidates = X_test_reviews.iloc[y_pred != y_true]  # Misclassified texts\n",
    "    sarcasm_examples = sarcasm_candidates[\n",
    "        sarcasm_candidates.str.contains(\"great|fantastic|amazing\", case=False, na=False)\n",
    "    ]\n",
    "\n",
    "    # Print first 5 examples for each category\n",
    "    print(\"\\nFalse Negatives (FN) examples:\")\n",
    "    print(false_negatives.head(5))\n",
    "    print(\"\\nFalse Positives (FP) examples:\")\n",
    "    print(false_positives.head(5))\n",
    "    print(\"\\nPotential Sarcasm Examples:\")\n",
    "    print(sarcasm_examples.head(5))\n",
    "\n",
    "    # Save all errors to files\n",
    "    false_negatives.to_csv(\"false_negatives.csv\", index=False)\n",
    "    false_positives.to_csv(\"false_positives.csv\", index=False)\n",
    "    sarcasm_examples.to_csv(\"potential_sarcasm.csv\", index=False)\n",
    "\n",
    "    # Reset Pandas options to default after displaying the output\n",
    "    pd.reset_option('display.max_colwidth')\n",
    "\n",
    "# Perform error analysis and save errors\n",
    "perform_error_analysis_mnb(\n",
    "    y_true=y_test,\n",
    "    y_pred=predicted_class,\n",
    "    test_indices=test_indices,\n",
    "    df=df,\n",
    "    label_mapping=label_mapping\n",
    ")\n",
    "\n",
    "\n",
    "\n",
    "\n"
   ]
  },
  {
   "cell_type": "code",
   "execution_count": null,
   "metadata": {},
   "outputs": [],
   "source": []
  },
  {
   "cell_type": "code",
   "execution_count": null,
   "metadata": {},
   "outputs": [],
   "source": []
  }
 ],
 "metadata": {
  "kernelspec": {
   "display_name": "ie691",
   "language": "python",
   "name": "python3"
  },
  "language_info": {
   "codemirror_mode": {
    "name": "ipython",
    "version": 3
   },
   "file_extension": ".py",
   "mimetype": "text/x-python",
   "name": "python",
   "nbconvert_exporter": "python",
   "pygments_lexer": "ipython3",
   "version": "3.9.20"
  }
 },
 "nbformat": 4,
 "nbformat_minor": 2
}
